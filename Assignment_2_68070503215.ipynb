{
  "cells": [
    {
      "cell_type": "markdown",
      "metadata": {
        "id": "view-in-github",
        "colab_type": "text"
      },
      "source": [
        "<a href=\"https://colab.research.google.com/github/napatt-error404/CVE100-68070503215/blob/main/Assignment_2_68070503215.ipynb\" target=\"_parent\"><img src=\"https://colab.research.google.com/assets/colab-badge.svg\" alt=\"Open In Colab\"/></a>"
      ]
    },
    {
      "cell_type": "markdown",
      "metadata": {
        "id": "Hus4Hnscfah8"
      },
      "source": [
        "#  Numbers"
      ]
    },
    {
      "cell_type": "markdown",
      "metadata": {
        "id": "2dJ2PqUyfah-"
      },
      "source": [
        "Compute the number of bytes in one Gigabyte (1kb = 1024 bytes, 1mb = 1024 kb, 1gb = 1024 mb)"
      ]
    },
    {
      "cell_type": "code",
      "execution_count": null,
      "metadata": {
        "colab": {
          "base_uri": "https://localhost:8080/"
        },
        "id": "AC_-qubQfah_",
        "outputId": "2456e0ef-9db8-4fea-977f-fbac3b634149"
      },
      "outputs": [
        {
          "output_type": "stream",
          "name": "stdout",
          "text": [
            "1 Gigabyte equal to 1073741824 bytes\n"
          ]
        }
      ],
      "source": [
        "#Write your code here\n",
        "gig = 1\n",
        "byte = (gig*1024*1024*1024)\n",
        "print('1 Gigabyte equal to', byte, 'bytes')"
      ]
    },
    {
      "cell_type": "markdown",
      "metadata": {
        "id": "KFzwId8SfaiA"
      },
      "source": [
        "You bought 500 shares of stock A at $\\$$600 on day 0 and you sold it at  $\\$$1000 on day 700.\n",
        "The daily discount rate is 0.0001%. How much profit did you make in terms of net present value.\n"
      ]
    },
    {
      "cell_type": "code",
      "execution_count": null,
      "metadata": {
        "colab": {
          "base_uri": "https://localhost:8080/"
        },
        "id": "cRIS4oBmfaiA",
        "outputId": "5467566a-bea2-4e13-c0c2-45a8d46ae447"
      },
      "outputs": [
        {
          "output_type": "stream",
          "name": "stdout",
          "text": [
            "Profit: $ 199650.12\n"
          ]
        }
      ],
      "source": [
        "#Write your code here ###\n",
        "t = 700\n",
        "d_0 = 500*600\n",
        "d_700 = 500*1000\n",
        "dis_rate = 0.0001/100\n",
        "npv = d_700/((1 + dis_rate)**t)\n",
        "profit = npv - d_0\n",
        "print('Profit: $','{:.2f}'.format(profit))"
      ]
    },
    {
      "cell_type": "markdown",
      "metadata": {
        "id": "C2k3qp4zfaiB"
      },
      "source": [
        "For any value of x, create a variable called even_check that is True if x is even and False if x is odd."
      ]
    },
    {
      "cell_type": "code",
      "execution_count": null,
      "metadata": {
        "run_control": {
          "marked": true
        },
        "colab": {
          "base_uri": "https://localhost:8080/"
        },
        "id": "zF4khFbZfaiB",
        "outputId": "4b6dc24d-7610-4765-df97-91d85f9f1389"
      },
      "outputs": [
        {
          "output_type": "stream",
          "name": "stdout",
          "text": [
            "Enter value:5\n",
            "5.0 is odd number\n"
          ]
        }
      ],
      "source": [
        "#Write your code here\n",
        "x = float(input('Enter value:'))\n",
        "if x % 2 == 0:\n",
        "  print(x, 'is even number')\n",
        "else:\n",
        "  print(x, 'is odd number')"
      ]
    },
    {
      "cell_type": "markdown",
      "metadata": {
        "id": "SeTwZNRHfaiB"
      },
      "source": [
        "You have num_shirts t-shirts, num_shorts pairs of shorts and num_shoes pairs of shoes.  Create a variable called num_outfits that stores the total number of different outfits you can make."
      ]
    },
    {
      "cell_type": "code",
      "execution_count": 1,
      "metadata": {
        "id": "LD-DtRujfaiB",
        "colab": {
          "base_uri": "https://localhost:8080/"
        },
        "outputId": "1730e616-1801-4ffd-b383-b8ffffd5aeee"
      },
      "outputs": [
        {
          "output_type": "stream",
          "name": "stdout",
          "text": [
            "Total number of outfits: 6\n"
          ]
        }
      ],
      "source": [
        "#Write your code here\n",
        "num_shirts = 1\n",
        "num_shorts = 2\n",
        "num_shoes = 3\n",
        "num_outfits = num_shirts * num_shorts * num_shoes\n",
        "print('Total number of outfits:', num_outfits)"
      ]
    },
    {
      "cell_type": "markdown",
      "metadata": {
        "id": "keGU-eSBfaiC"
      },
      "source": [
        "# String Practice\n",
        "\n",
        "Create variable called \"name\" that stores your full name. Find whether your name has an even or odd number of letters."
      ]
    },
    {
      "cell_type": "code",
      "execution_count": 3,
      "metadata": {
        "colab": {
          "base_uri": "https://localhost:8080/"
        },
        "id": "tsP0c6qvfaiC",
        "outputId": "855b181c-7e8b-460f-cf6e-4ce3040a7ce4"
      },
      "outputs": [
        {
          "output_type": "stream",
          "name": "stdout",
          "text": [
            "Enter your name:Napat\n",
            "Napat has odd number of letters\n"
          ]
        }
      ],
      "source": [
        "#Write your code here\n",
        "name = str(input('Enter your name:'))\n",
        "len = len(name)\n",
        "if len % 2 == 0:\n",
        "  print(name, 'has even number of letters')\n",
        "else:\n",
        "  print(name, 'has odd number of letters')"
      ]
    },
    {
      "cell_type": "markdown",
      "metadata": {
        "id": "F5c5u1rrfaiC"
      },
      "source": [
        "Correct the following variable so it is equal to \"spammy\""
      ]
    },
    {
      "cell_type": "code",
      "execution_count": null,
      "metadata": {
        "colab": {
          "base_uri": "https://localhost:8080/",
          "height": 36
        },
        "id": "AL_IhKLCfaiD",
        "outputId": "fb9ea595-e21d-45a9-9a2b-157e9ce4e9e9"
      },
      "outputs": [
        {
          "output_type": "execute_result",
          "data": {
            "text/plain": [
              "'spammy'"
            ],
            "application/vnd.google.colaboratory.intrinsic+json": {
              "type": "string"
            }
          },
          "metadata": {},
          "execution_count": 17
        }
      ],
      "source": [
        "#Write your code here\n",
        "s = \"spaxxy\"\n",
        "s[0:3]+'mm'+s[-1]"
      ]
    },
    {
      "cell_type": "markdown",
      "metadata": {
        "id": "mSfQOEewfaiD"
      },
      "source": [
        "Figure out a way to slice and combine the strings s1, s2, and s3 so that the variable consec_ints = \"123456789\"."
      ]
    },
    {
      "cell_type": "code",
      "execution_count": null,
      "metadata": {
        "colab": {
          "base_uri": "https://localhost:8080/",
          "height": 36
        },
        "id": "DWZaBcDJfaiD",
        "outputId": "fd119d91-873e-4ba9-ca0a-f1733df597d2"
      },
      "outputs": [
        {
          "output_type": "execute_result",
          "data": {
            "text/plain": [
              "'123456789'"
            ],
            "application/vnd.google.colaboratory.intrinsic+json": {
              "type": "string"
            }
          },
          "metadata": {},
          "execution_count": 20
        }
      ],
      "source": [
        "s1 = \"12345\"\n",
        "s2 = \"34567\"\n",
        "s3 = \"789\"\n",
        "\n",
        "#Write your code here\n",
        "\n",
        "s1 + s2[3:] + s3[1:]"
      ]
    },
    {
      "cell_type": "markdown",
      "metadata": {
        "id": "BTRp-omYfaiD"
      },
      "source": [
        "#  List Practice\n",
        "\n"
      ]
    },
    {
      "cell_type": "markdown",
      "metadata": {
        "id": "t9HYL8iKfaiD"
      },
      "source": [
        "Add the first and last elements of the list L. Store the result in a variable called sum_first_last. Your code should work if I change L."
      ]
    },
    {
      "cell_type": "code",
      "execution_count": null,
      "metadata": {
        "colab": {
          "base_uri": "https://localhost:8080/"
        },
        "id": "Met_dPy5faiD",
        "outputId": "927e008e-f4a2-4d9a-daff-7917dae98955"
      },
      "outputs": [
        {
          "output_type": "stream",
          "name": "stdout",
          "text": [
            "72\n"
          ]
        }
      ],
      "source": [
        "L = [5,1,43,2,4,56,7,90, 67]\n",
        "\n",
        "#Write your code here\n",
        "\n",
        "sum_first_last = L[0] + L[8]\n",
        "print(sum_first_last)"
      ]
    },
    {
      "cell_type": "markdown",
      "metadata": {
        "id": "J8FXF3iRfaiE"
      },
      "source": [
        "Slice and combine the elements of the list L in a way to print out \"spam\"."
      ]
    },
    {
      "cell_type": "code",
      "execution_count": null,
      "metadata": {
        "colab": {
          "base_uri": "https://localhost:8080/"
        },
        "id": "FbRaZuE7faiE",
        "outputId": "117831a0-18c2-4833-c5e0-9cadad6b7215"
      },
      "outputs": [
        {
          "output_type": "stream",
          "name": "stdout",
          "text": [
            "spam\n"
          ]
        }
      ],
      "source": [
        "L = [1,\"s\", 2, 3, \"p\", \"a\", 34,1,\"m\"]\n",
        "\n",
        "\n",
        "#Write your code here\n",
        "\n",
        "print(L[1]+L[4]+L[5]+L[8])\n"
      ]
    },
    {
      "cell_type": "markdown",
      "metadata": {
        "id": "iADJcrn9faiE"
      },
      "source": [
        "Create a variable called num_L which store the number represented by the list of strings in L.  For the example num_L should be 145. You may assume 3 digit numbers."
      ]
    },
    {
      "cell_type": "code",
      "execution_count": null,
      "metadata": {
        "colab": {
          "base_uri": "https://localhost:8080/"
        },
        "id": "hSL-ZEpyfaiE",
        "outputId": "1c8f0540-5ae2-495b-fa56-5864bbacb3ee"
      },
      "outputs": [
        {
          "output_type": "stream",
          "name": "stdout",
          "text": [
            "145\n"
          ]
        }
      ],
      "source": [
        "L = [\"1\",\"4\",\"5\" ]\n",
        "\n",
        "#Write you code here\n",
        "num_L = (L[0]+L[1]+L[2])\n",
        "print(num_L)"
      ]
    },
    {
      "cell_type": "markdown",
      "metadata": {
        "id": "uR-XyOhAfaiE"
      },
      "source": [
        "Create a list L of numbers of odd length.  Complete the following tasks:\n",
        "\n",
        " - Find the median element\n",
        " - Slice out all element indexed lower than the median element"
      ]
    },
    {
      "cell_type": "code",
      "execution_count": 2,
      "metadata": {
        "colab": {
          "base_uri": "https://localhost:8080/"
        },
        "id": "aTgEjTAwfaiF",
        "outputId": "a5ce0830-8bad-4082-a29d-86ede08011ce"
      },
      "outputs": [
        {
          "output_type": "stream",
          "name": "stdout",
          "text": [
            "[2, 3, 4, 5, 6, 6, 9]\n",
            "Median of the list is 5\n"
          ]
        }
      ],
      "source": [
        "L= [4,5,3,2,6,6,9]\n",
        "\n",
        "#Write your code here\n",
        "L.sort()\n",
        "list_length = len(L)\n",
        "medindex = (list_length - 1) // 2\n",
        "med = L[medindex]\n",
        "print(\"Median of the list is\", med)"
      ]
    }
  ],
  "metadata": {
    "kernelspec": {
      "display_name": "Python 3",
      "language": "python",
      "name": "python3"
    },
    "language_info": {
      "codemirror_mode": {
        "name": "ipython",
        "version": 3
      },
      "file_extension": ".py",
      "mimetype": "text/x-python",
      "name": "python",
      "nbconvert_exporter": "python",
      "pygments_lexer": "ipython3",
      "version": "3.6.0"
    },
    "toc": {
      "colors": {
        "hover_highlight": "#DAA520",
        "navigate_num": "#000000",
        "navigate_text": "#333333",
        "running_highlight": "#FF0000",
        "selected_highlight": "#FFD700",
        "sidebar_border": "#EEEEEE",
        "wrapper_background": "#FFFFFF"
      },
      "moveMenuLeft": true,
      "nav_menu": {
        "height": "12px",
        "width": "252px"
      },
      "navigate_menu": true,
      "number_sections": true,
      "sideBar": true,
      "skip_h1_title": false,
      "threshold": 4,
      "toc_cell": false,
      "toc_position": {},
      "toc_section_display": "block",
      "toc_window_display": false,
      "widenNotebook": false
    },
    "colab": {
      "provenance": [],
      "include_colab_link": true
    }
  },
  "nbformat": 4,
  "nbformat_minor": 0
}