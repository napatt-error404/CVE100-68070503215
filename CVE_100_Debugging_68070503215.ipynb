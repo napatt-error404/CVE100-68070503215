{
  "nbformat": 4,
  "nbformat_minor": 0,
  "metadata": {
    "colab": {
      "provenance": [],
      "include_colab_link": true
    },
    "kernelspec": {
      "name": "python3",
      "display_name": "Python 3"
    },
    "language_info": {
      "name": "python"
    }
  },
  "cells": [
    {
      "cell_type": "markdown",
      "metadata": {
        "id": "view-in-github",
        "colab_type": "text"
      },
      "source": [
        "<a href=\"https://colab.research.google.com/github/napatt-error404/CVE100-68070503215/blob/main/CVE_100_Debugging_68070503215.ipynb\" target=\"_parent\"><img src=\"https://colab.research.google.com/assets/colab-badge.svg\" alt=\"Open In Colab\"/></a>"
      ]
    },
    {
      "cell_type": "markdown",
      "source": [
        "CHALLENGE INSTRUCTIONS:\n",
        "- Each exercise contains one or more bugs\n",
        "- Some bugs are subtle and require careful analysis\n",
        "- Read error messages carefully - they're your best friend!\n",
        "- Some exercises have multiple bugs - fix them all!\n",
        "- Try to understand WHY the bug occurred, not just HOW to fix it\n",
        "\n",
        "Good luck!"
      ],
      "metadata": {
        "id": "CcnGMDB2-Xws"
      }
    },
    {
      "cell_type": "markdown",
      "source": [
        "**CHALLENGE 1: The Mysterious Growing List**"
      ],
      "metadata": {
        "id": "8bM4dsPm_D9I"
      }
    },
    {
      "cell_type": "code",
      "execution_count": 18,
      "metadata": {
        "id": "uHQDQi33-Ncw",
        "colab": {
          "base_uri": "https://localhost:8080/"
        },
        "outputId": "29bba8bc-5a37-45d2-b9e4-b7c049d0e4fe"
      },
      "outputs": [
        {
          "output_type": "stream",
          "name": "stdout",
          "text": [
            "\n",
            "--- TEST CASES ---\n",
            "Test 1: Class A: ['Alice']\n",
            "Test 2: Class B: ['Alice', 'Bob']\n",
            "Test 3: Class C: ['Alice', 'Bob', 'Charlie']\n"
          ]
        }
      ],
      "source": [
        "def add_student(name, class_list=[]):\n",
        "    \"\"\"Add a student to a class list\"\"\"\n",
        "    class_list.append(name)\n",
        "    return class_list\n",
        "\n",
        "\n",
        "print(\"\\n--- TEST CASES ---\")\n",
        "print(\"Test 1: Class A:\", add_student(\"Alice\"))\n",
        "print(\"Test 2: Class B:\", add_student(\"Bob\"))\n",
        "print(\"Test 3: Class C:\", add_student(\"Charlie\"))"
      ]
    },
    {
      "cell_type": "markdown",
      "source": [
        "**EXPECTED OUTPUT**\n",
        "\n",
        "\"Class A: ['Alice']\"\n",
        "\n",
        "\"Class B: ['Bob']\n",
        "\n",
        "\"Class C: ['Charlie']\""
      ],
      "metadata": {
        "id": "QrD18riJ-0xl"
      }
    },
    {
      "cell_type": "markdown",
      "source": [
        "**CHALLENGE 2: The Mysterious Growing List**"
      ],
      "metadata": {
        "id": "28jBp_pc_FwU"
      }
    },
    {
      "cell_type": "code",
      "source": [
        "total = 0\n",
        "\n",
        "def add_to_total(value):\n",
        "    # This creates a LOCAL variable named 'total'\n",
        "    # instead of modifying the global one\n",
        "    try:\n",
        "        total= 0\n",
        "        total = total + value\n",
        "        return total\n",
        "    except UnboundLocalError as e:\n",
        "        return f\"ERROR: {e}\""
      ],
      "metadata": {
        "id": "nVYMAZ4S_ggm"
      },
      "execution_count": 19,
      "outputs": []
    },
    {
      "cell_type": "code",
      "source": [
        "total_v2 = 0\n",
        "print(f\"Initial total: {total_v2}\")\n",
        "total_v2 = add_to_total(10)\n",
        "print(f\"After adding 10: {total_v2}\")\n",
        "total_v2 = add_to_total(30)\n",
        "print(f\"After adding 20: {total_v2}\")\n",
        "print(f\"Gloal Total: {total_v2}\")"
      ],
      "metadata": {
        "colab": {
          "base_uri": "https://localhost:8080/"
        },
        "id": "2_bIKhT8AA1V",
        "outputId": "a48e8eb7-d795-476e-ac06-398440dbd98f"
      },
      "execution_count": 20,
      "outputs": [
        {
          "output_type": "stream",
          "name": "stdout",
          "text": [
            "Initial total: 0\n",
            "After adding 10: 10\n",
            "After adding 20: 30\n",
            "Gloal Total: 30\n"
          ]
        }
      ]
    },
    {
      "cell_type": "markdown",
      "source": [
        "**EXPECTED OUTPUT**\n",
        "\n",
        "\n",
        "\"Initial total: 0\"\n",
        "\n",
        "\"After adding 10: 10\"\n",
        "\n",
        "\"After adding 20: 30\"\n",
        "\n",
        "\"Global total: 30\""
      ],
      "metadata": {
        "id": "tkBG_Yqg_qVe"
      }
    },
    {
      "cell_type": "markdown",
      "source": [
        "**CHALLENGE 3: Analyze Test Scores**"
      ],
      "metadata": {
        "id": "7I4gwKbcA75h"
      }
    },
    {
      "cell_type": "code",
      "source": [
        "def analyze_test_scores(scores):\n",
        "    total = 0\n",
        "    for score in scores:\n",
        "        total += score\n",
        "\n",
        "    average = total / len(scores)\n",
        "    highest = scores[0]\n",
        "    lowest = scores[0]\n",
        "    passing_count = 0\n",
        "\n",
        "    for i in range(len(scores)):\n",
        "        if scores[i] > highest:\n",
        "            highest = scores[i]\n",
        "        if scores[i] < lowest:\n",
        "            lowest = scores[i]\n",
        "        if scores[i] >= 60:\n",
        "            passing_count += 1\n",
        "\n",
        "    return {\n",
        "        'average': average,\n",
        "        'highest': highest,\n",
        "        'lowest': lowest,\n",
        "        'passing': passing_count,\n",
        "        'failing': len(scores) - passing_count\n",
        "    }"
      ],
      "metadata": {
        "id": "xrV4HIvBBi9w"
      },
      "execution_count": 21,
      "outputs": []
    },
    {
      "cell_type": "code",
      "source": [
        "print(\"\\n--- TEST CASES ---\")\n",
        "test_scores = [85, 92, 78, 90, 65, 88, 76, 95, 82, 70]\n",
        "print(f\"Input: {test_scores}\")\n",
        "\n",
        "stats = analyze_test_scores(test_scores)\n",
        "print(f\"Result: {stats}\")"
      ],
      "metadata": {
        "colab": {
          "base_uri": "https://localhost:8080/"
        },
        "id": "hXPkZ2baByGv",
        "outputId": "2fe19b72-af0d-407d-aa2d-a92296bbb1bc"
      },
      "execution_count": 22,
      "outputs": [
        {
          "output_type": "stream",
          "name": "stdout",
          "text": [
            "\n",
            "--- TEST CASES ---\n",
            "Input: [85, 92, 78, 90, 65, 88, 76, 95, 82, 70]\n",
            "Result: {'average': 82.1, 'highest': 95, 'lowest': 65, 'passing': 10, 'failing': 0}\n"
          ]
        }
      ]
    },
    {
      "cell_type": "markdown",
      "source": [
        "{\n",
        "    'average': 82.1,\n",
        "\n",
        "    'highest': 95,\n",
        "\n",
        "    'lowest': 65,\n",
        "\n",
        "    'passing': 10,\n",
        "    \n",
        "    'failing': 0\n",
        "}"
      ],
      "metadata": {
        "id": "vqL7zudACCfm"
      }
    },
    {
      "cell_type": "markdown",
      "source": [
        "**CHALLENGE 4: Dictionary Iteration Modification**"
      ],
      "metadata": {
        "id": "PYVYNlRmMbk7"
      }
    },
    {
      "cell_type": "code",
      "source": [
        "def remove_negative_prices(inventory):\n",
        "    for item, price in list (inventory.items()):\n",
        "        if price < 0:\n",
        "            del inventory[item]\n",
        "    return inventory\n",
        "\n",
        "\n",
        "print(\"\\n--- TEST CASES ---\")\n",
        "products = {\n",
        "    'apple': 1.50,\n",
        "    'banana': -0.50,\n",
        "    'orange': 2.00,\n",
        "    'grape': -1.00,\n",
        "    'mango': 3.00\n",
        "}\n",
        "\n",
        "\n",
        "\n",
        "cleaned = remove_negative_prices(products.copy())\n",
        "print(f\"Result: {cleaned}\")"
      ],
      "metadata": {
        "colab": {
          "base_uri": "https://localhost:8080/"
        },
        "id": "d0HEV_OcL8Jl",
        "outputId": "21b099cf-8081-48cd-8854-37225d3824f5"
      },
      "execution_count": 23,
      "outputs": [
        {
          "output_type": "stream",
          "name": "stdout",
          "text": [
            "\n",
            "--- TEST CASES ---\n",
            "Result: {'apple': 1.5, 'orange': 2.0, 'mango': 3.0}\n"
          ]
        }
      ]
    },
    {
      "cell_type": "markdown",
      "source": [
        "**EXPECTED OUTPUT**\n",
        "\n",
        "\n",
        "Result: {'apple': 1.50, 'orange': 2.00, 'mango': 3.00}"
      ],
      "metadata": {
        "id": "RLbA2_lPML-r"
      }
    }
  ]
}