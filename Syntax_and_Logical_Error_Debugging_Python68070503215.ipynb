{
  "nbformat": 4,
  "nbformat_minor": 0,
  "metadata": {
    "colab": {
      "provenance": [],
      "include_colab_link": true
    },
    "kernelspec": {
      "name": "python3",
      "display_name": "Python 3"
    },
    "language_info": {
      "name": "python"
    }
  },
  "cells": [
    {
      "cell_type": "markdown",
      "metadata": {
        "id": "view-in-github",
        "colab_type": "text"
      },
      "source": [
        "<a href=\"https://colab.research.google.com/github/napatt-error404/CVE100-68070503215/blob/main/Syntax_and_Logical_Error_Debugging_Python68070503215.ipynb\" target=\"_parent\"><img src=\"https://colab.research.google.com/assets/colab-badge.svg\" alt=\"Open In Colab\"/></a>"
      ]
    },
    {
      "cell_type": "code",
      "execution_count": 3,
      "metadata": {
        "colab": {
          "base_uri": "https://localhost:8080/"
        },
        "id": "bgLMGV2P-pWH",
        "outputId": "59a5efc8-7344-4564-de2c-7cd4f9fc24a2"
      },
      "outputs": [
        {
          "output_type": "stream",
          "name": "stdout",
          "text": [
            "Sum of first 3 positives: 12\n"
          ]
        }
      ],
      "source": [
        "# Expected Output:\n",
        "# Sum of first 3 positives: 12\n",
        "\n",
        "nums = [-1, 2, -5, 3, 7, -2, 4]\n",
        "count = 0\n",
        "total = 0\n",
        "\n",
        "for n in nums:\n",
        "    if n <= 0:\n",
        "        continue\n",
        "    total += n\n",
        "    count += 1\n",
        "    if count == 3:\n",
        "        break\n",
        "    else:\n",
        "        continue\n",
        "\n",
        "print(\"Sum of first 3 positives:\", total)"
      ]
    },
    {
      "cell_type": "code",
      "source": [
        "# find the highest scoring player\n",
        "# Expected Output:\n",
        "# Winner: Cara\n",
        "players = [(\"Alice\", 15), (\"Bob\", 10), (\"Cara\", 20), (\"Dan\", 9)]\n",
        "winner = None\n",
        "best = -1\n",
        "\n",
        "for name, score in players:\n",
        "    if score > best:\n",
        "        best = score\n",
        "        winner = name\n",
        "\n",
        "print(\"Winner:\", winner)"
      ],
      "metadata": {
        "colab": {
          "base_uri": "https://localhost:8080/"
        },
        "id": "g_9Bz8qc_GDA",
        "outputId": "15f7f127-490f-468d-f867-74df936cc3b3"
      },
      "execution_count": 4,
      "outputs": [
        {
          "output_type": "stream",
          "name": "stdout",
          "text": [
            "Winner: Cara\n"
          ]
        }
      ]
    },
    {
      "cell_type": "code",
      "source": [
        "# Expected Output:\n",
        "# First positive multiple of 7: 21\n",
        "nums = [-14, -7, 0, 7, 14, 21, 28]\n",
        "first = None\n",
        "for n in nums:\n",
        "    if n > 0 and n % 7 == 0:\n",
        "        first = n\n",
        "        break\n",
        "\n",
        "if first is None:\n",
        "    print(\"None found\")\n",
        "else:\n",
        "    print(\"First positive multiple of 7:\", first)"
      ],
      "metadata": {
        "colab": {
          "base_uri": "https://localhost:8080/"
        },
        "id": "mFnCscKF_odT",
        "outputId": "b52656c5-3149-4792-facf-1b711ad36d92"
      },
      "execution_count": 18,
      "outputs": [
        {
          "output_type": "stream",
          "name": "stdout",
          "text": [
            "First positive multiple of 7: 7\n"
          ]
        }
      ]
    },
    {
      "cell_type": "code",
      "source": [
        "# Expected Output:\n",
        "# mean=3.0 min=1 max=5\n",
        "\n",
        "def stats(nums):\n",
        "    mn = min(nums)\n",
        "    mx = max(nums)\n",
        "    avg = sum(nums)/len(nums)\n",
        "    return mn, mx, avg\n",
        "\n",
        "mn, mx, avg  = stats([1,2,3,4,5])\n",
        "print(f\"mean={avg} min={mn} max={mx}\")"
      ],
      "metadata": {
        "id": "AY7quxB6Bulg",
        "colab": {
          "base_uri": "https://localhost:8080/"
        },
        "outputId": "d079e948-bb21-416d-a372-99063f0d1f43"
      },
      "execution_count": 5,
      "outputs": [
        {
          "output_type": "stream",
          "name": "stdout",
          "text": [
            "mean=3.0 min=1 max=5\n"
          ]
        }
      ]
    },
    {
      "cell_type": "code",
      "source": [
        "# Expected Output: Random array of shape (2,3)\n",
        "import numpy\n",
        "a = numpy.random.random((2,3))\n",
        "print(a)\n"
      ],
      "metadata": {
        "id": "HXRmCSI8DVAa",
        "colab": {
          "base_uri": "https://localhost:8080/"
        },
        "outputId": "7c9494d9-b9fb-4bfd-e4f2-b1af2b7637af"
      },
      "execution_count": 6,
      "outputs": [
        {
          "output_type": "stream",
          "name": "stdout",
          "text": [
            "[[0.91306696 0.03472871 0.26709613]\n",
            " [0.00136709 0.87384516 0.02636676]]\n"
          ]
        }
      ]
    },
    {
      "cell_type": "code",
      "source": [
        "# Expected Output: sqrt(16) = 4.0\n",
        "import numpy as np\n",
        "print(\"sqrt(16) =\", np.sqrt(16))"
      ],
      "metadata": {
        "collapsed": true,
        "id": "gX6tW-lBDhn_",
        "colab": {
          "base_uri": "https://localhost:8080/"
        },
        "outputId": "440e61aa-1816-4443-aaf4-fec85b9425a7"
      },
      "execution_count": 10,
      "outputs": [
        {
          "output_type": "stream",
          "name": "stdout",
          "text": [
            "sqrt(16) = 4.0\n"
          ]
        }
      ]
    },
    {
      "cell_type": "code",
      "source": [
        "# Expected Output: 0.7071067811865476\n",
        "\n",
        "import math\n",
        "import numpy\n",
        "print(np.sin(math.pi / 4))"
      ],
      "metadata": {
        "id": "Jg4KYIhSDouW",
        "colab": {
          "base_uri": "https://localhost:8080/"
        },
        "outputId": "a6d84c5b-b7ad-42d7-eec0-75d3eb95f865"
      },
      "execution_count": 9,
      "outputs": [
        {
          "output_type": "stream",
          "name": "stdout",
          "text": [
            "0.7071067811865475\n"
          ]
        }
      ]
    },
    {
      "cell_type": "code",
      "source": [
        "# Expected Output: Mean = 3.0\n",
        "import numpy as np\n",
        "arr = np.array([1, 2, 3, 4, 5])\n",
        "mean = np.sum(arr) / np.size(arr)\n",
        "print(\"Mean =\", mean)"
      ],
      "metadata": {
        "colab": {
          "base_uri": "https://localhost:8080/"
        },
        "id": "AsaiYN8PDyfe",
        "outputId": "5b623e98-a95c-4628-f4c2-cc18645983f6"
      },
      "execution_count": 8,
      "outputs": [
        {
          "output_type": "stream",
          "name": "stdout",
          "text": [
            "Mean = 3.0\n"
          ]
        }
      ]
    },
    {
      "cell_type": "code",
      "source": [
        "# Expected Output:\n",
        "# Aye 25\n",
        "class Person:\n",
        "    def __init__(self, name, age):\n",
        "        self.name = name\n",
        "        self.age = age\n",
        "\n",
        "p = Person(\"Aye\", 25)\n",
        "print(p.name, p.age)\n"
      ],
      "metadata": {
        "id": "kb42Oi8IEjjq",
        "colab": {
          "base_uri": "https://localhost:8080/"
        },
        "outputId": "4edacbee-4f6e-44be-f491-ec1a5b995e8f"
      },
      "execution_count": 11,
      "outputs": [
        {
          "output_type": "stream",
          "name": "stdout",
          "text": [
            "Aye 25\n"
          ]
        }
      ]
    },
    {
      "cell_type": "code",
      "source": [
        "# Expected Output:\n",
        "# 50000\n",
        "class Employee:\n",
        "    def __init__(self, salary):\n",
        "        self.__salary = salary\n",
        "\n",
        "    def get_salary(self):\n",
        "        return self.__salary\n",
        "\n",
        "e = Employee(50000)\n",
        "print(e.get_salary())\n"
      ],
      "metadata": {
        "id": "eCULBxn7FWmb",
        "colab": {
          "base_uri": "https://localhost:8080/"
        },
        "outputId": "1f3b29bd-2a6d-4875-e628-b53300254525"
      },
      "execution_count": 12,
      "outputs": [
        {
          "output_type": "stream",
          "name": "stdout",
          "text": [
            "50000\n"
          ]
        }
      ]
    },
    {
      "cell_type": "code",
      "source": [
        "# Expected Output:\n",
        "# Brand: Toyota, Engine: 2000\n",
        "class Vehicle:\n",
        "    def __init__(self, brand):\n",
        "        self.brand = brand\n",
        "\n",
        "class Car(Vehicle):\n",
        "    def __init__(self, brand, engine):\n",
        "        self.engine = engine\n",
        "        super().__init__(brand)\n",
        "\n",
        "c = Car(\"Toyota\", 2000)\n",
        "print(f\"Brand: {c.brand}, Engine: {c.engine}\")"
      ],
      "metadata": {
        "id": "y_SJZvylFmXT",
        "colab": {
          "base_uri": "https://localhost:8080/"
        },
        "outputId": "cc12c336-ee8d-47e5-e835-5f15ea6ec244"
      },
      "execution_count": 13,
      "outputs": [
        {
          "output_type": "stream",
          "name": "stdout",
          "text": [
            "Brand: Toyota, Engine: 2000\n"
          ]
        }
      ]
    },
    {
      "cell_type": "code",
      "source": [
        "# Expected Output:\n",
        "# Area: 12.56\n",
        "import math\n",
        "\n",
        "class Shape:\n",
        "    def area(self):\n",
        "        pass\n",
        "\n",
        "class Circle(Shape):\n",
        "    def area(self,radius):\n",
        "        return math.pi * radius ** 2\n",
        "\n",
        "c = Circle()\n",
        "print(\"Area:\", round(c.area(2),2))"
      ],
      "metadata": {
        "id": "VZQ3DDbsHWC4",
        "colab": {
          "base_uri": "https://localhost:8080/"
        },
        "outputId": "5e03cc2e-3e67-4bef-b7db-2f1278078d48"
      },
      "execution_count": 17,
      "outputs": [
        {
          "output_type": "stream",
          "name": "stdout",
          "text": [
            "Area: 12.57\n"
          ]
        }
      ]
    }
  ]
}